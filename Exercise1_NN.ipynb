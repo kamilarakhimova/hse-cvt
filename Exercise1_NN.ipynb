{
  "nbformat": 4,
  "nbformat_minor": 0,
  "metadata": {
    "colab": {
      "provenance": [],
      "include_colab_link": true
    },
    "kernelspec": {
      "name": "python3",
      "display_name": "Python 3"
    }
  },
  "cells": [
    {
      "cell_type": "markdown",
      "metadata": {
        "id": "view-in-github",
        "colab_type": "text"
      },
      "source": [
        "<a href=\"https://colab.research.google.com/github/kamilarakhimova/hse-cvt/blob/main/Exercise1_NN.ipynb\" target=\"_parent\"><img src=\"https://colab.research.google.com/assets/colab-badge.svg\" alt=\"Open In Colab\"/></a>"
      ]
    },
    {
      "cell_type": "markdown",
      "metadata": {
        "id": "BRXusPhYCMOv"
      },
      "source": [
        "# Load the data\n",
        "\n",
        "You can download CIFAR10 dataset from official site: https://www.cs.toronto.edu/~kriz/cifar.html\n",
        "\n",
        "or do it using Pytorch:\n",
        "https://pytorch.org/vision/stable/datasets.html#cifar\n",
        "\n",
        "or another framework.\n",
        "\n"
      ]
    },
    {
      "cell_type": "code",
      "metadata": {
        "id": "kUHLgFWQ6xBq"
      },
      "source": [
        "classes = ['Самолет', 'Автомобиль', 'Птица', 'Кошка', 'Олень', 'Собака', 'Лягушка', 'Лошадь', 'Корабль', 'Грузовик']"
      ],
      "execution_count": 1,
      "outputs": []
    },
    {
      "cell_type": "markdown",
      "source": [
        "*First of all, let's import necessary libraries and declare constants.*"
      ],
      "metadata": {
        "id": "_VDizmMYzkI3"
      }
    },
    {
      "cell_type": "code",
      "source": [
        "import torch\n",
        "import torchvision\n",
        "import random\n",
        "import numpy as np\n",
        "import pandas as pd\n",
        "import seaborn as sns\n",
        "import matplotlib.pyplot as plt"
      ],
      "metadata": {
        "id": "Q5IwFysozyfw"
      },
      "execution_count": 2,
      "outputs": []
    },
    {
      "cell_type": "code",
      "source": [
        "random.seed(42)\n",
        "RANDOM_STATE = 42"
      ],
      "metadata": {
        "id": "5FAzVQ9Gz1xS"
      },
      "execution_count": 3,
      "outputs": []
    },
    {
      "cell_type": "markdown",
      "source": [
        "*Next, we download a train part of the dataset.*"
      ],
      "metadata": {
        "id": "qCqrT1gZ0ckd"
      }
    },
    {
      "cell_type": "code",
      "source": [
        "training_data = torchvision.datasets.CIFAR10(\n",
        "    root=\"data\",\n",
        "    train=True,\n",
        "    download=True,\n",
        ")"
      ],
      "metadata": {
        "id": "rg-mXDtq5RJQ",
        "outputId": "dd50336d-b65b-4266-f014-b5230c557ebd",
        "colab": {
          "base_uri": "https://localhost:8080/"
        }
      },
      "execution_count": 4,
      "outputs": [
        {
          "output_type": "stream",
          "name": "stdout",
          "text": [
            "Downloading https://www.cs.toronto.edu/~kriz/cifar-10-python.tar.gz to data/cifar-10-python.tar.gz\n"
          ]
        },
        {
          "output_type": "stream",
          "name": "stderr",
          "text": [
            "100%|██████████| 170498071/170498071 [00:02<00:00, 62505516.70it/s]\n"
          ]
        },
        {
          "output_type": "stream",
          "name": "stdout",
          "text": [
            "Extracting data/cifar-10-python.tar.gz to data\n"
          ]
        }
      ]
    },
    {
      "cell_type": "code",
      "source": [
        "training_data"
      ],
      "metadata": {
        "id": "-z-5MH4F5dUH",
        "outputId": "3132e044-185b-4f6e-c1c4-2cd7b44719e5",
        "colab": {
          "base_uri": "https://localhost:8080/"
        }
      },
      "execution_count": 5,
      "outputs": [
        {
          "output_type": "execute_result",
          "data": {
            "text/plain": [
              "Dataset CIFAR10\n",
              "    Number of datapoints: 50000\n",
              "    Root location: data\n",
              "    Split: Train"
            ]
          },
          "metadata": {},
          "execution_count": 5
        }
      ]
    },
    {
      "cell_type": "markdown",
      "metadata": {
        "id": "jYyQ8jCrCUoP"
      },
      "source": [
        "## Split data into train and validation parts\n",
        "\n",
        "Extract subset containing train and validation parts.\n",
        "Part must contain 5000 and 500 samples respectively."
      ]
    },
    {
      "cell_type": "code",
      "metadata": {
        "id": "98B8sDpi8HRd"
      },
      "source": [
        "# Train data 5000 samples\n",
        "X_train = training_data.data[:5000]\n",
        "y_train = training_data.targets[:5000]\n",
        "\n",
        "# Validation data 500 samples\n",
        "X_val = training_data.data[5000:5500]\n",
        "y_val = training_data.targets[5000:5500]"
      ],
      "execution_count": 6,
      "outputs": []
    },
    {
      "cell_type": "code",
      "source": [
        "len(X_train), len(y_train), len(X_val), len(y_val)"
      ],
      "metadata": {
        "id": "quufu-yXAF46",
        "outputId": "dd29b180-dd55-45e4-e9b1-66d9869016b6",
        "colab": {
          "base_uri": "https://localhost:8080/"
        }
      },
      "execution_count": 7,
      "outputs": [
        {
          "output_type": "execute_result",
          "data": {
            "text/plain": [
              "(5000, 5000, 500, 500)"
            ]
          },
          "metadata": {},
          "execution_count": 7
        }
      ]
    },
    {
      "cell_type": "markdown",
      "metadata": {
        "id": "WWDRnugWCDsU"
      },
      "source": [
        "## Display some images along with their class names\n",
        "  \n"
      ]
    },
    {
      "cell_type": "code",
      "source": [
        "random.seed(42)\n",
        "\n",
        "# choose 5 (pseudo)random indexes\n",
        "indexes = random.sample(range(5000), 5)\n",
        "\n",
        "# show selected images\n",
        "fig, axes = plt.subplots(1, 5, figsize = (10, 3))\n",
        "for ax, i in zip(axes, indexes):\n",
        "    image, target = X_train[i], y_train[i]\n",
        "\n",
        "    # removing frames around images\n",
        "    ax.set_axis_off()\n",
        "\n",
        "    ax.imshow(image)\n",
        "    ax.set_title(classes[y_train[i]])\n"
      ],
      "metadata": {
        "colab": {
          "base_uri": "https://localhost:8080/",
          "height": 192
        },
        "id": "0dGLBtf2sDDr",
        "outputId": "31ffd6dc-4788-4e38-b844-d77f38048c02"
      },
      "execution_count": 8,
      "outputs": [
        {
          "output_type": "display_data",
          "data": {
            "text/plain": [
              "<Figure size 1000x300 with 5 Axes>"
            ],
            "image/png": "[encoded data removed]"
          },
          "metadata": {}
        }
      ]
    },
    {
      "cell_type": "markdown",
      "metadata": {
        "id": "gVVCDZnvCoZI"
      },
      "source": [
        "# Implement NearestNeighbor class"
      ]
    },
    {
      "cell_type": "markdown",
      "source": [
        "*Here are several methods for calculating distance between vectors of two images (a, b).*"
      ],
      "metadata": {
        "id": "MGjfPwSb3Y0Z"
      }
    },
    {
      "cell_type": "code",
      "source": [
        "def L1_dist(a, b):\n",
        "  summ = 0\n",
        "  for i in range(len(a)):\n",
        "    for j in range(len(a[i])):\n",
        "      for k in range(len(a[i][j])):\n",
        "        summ += abs(int(a[i][j][k]) - int(b[i][j][k]))\n",
        "  return summ\n"
      ],
      "metadata": {
        "id": "7L9IpYB33Qex"
      },
      "execution_count": 9,
      "outputs": []
    },
    {
      "cell_type": "markdown",
      "source": [
        "*And here is an example of the Nearest Neighbor algorithm.*"
      ],
      "metadata": {
        "id": "QaSEtCq73_pa"
      }
    },
    {
      "cell_type": "code",
      "metadata": {
        "id": "39EG-F_O8kbm"
      },
      "source": [
        "class NearestNeighbor:\n",
        "  def __init__(self):\n",
        "    self.points = {0: [], 1: [], 2: [], 3: [], 4: [], 5: [], 6: [], 7: [], 8: [], 9: []}\n",
        "\n",
        "  def fit(self, x, y):\n",
        "    \"\"\"\n",
        "      Arguments:\n",
        "        x  (Tensor or numpy.array): collection of objects from trainset (batch)\n",
        "        y  (Tensor or numpy.array): collection of integer\n",
        "        representing a class number for objects from x\n",
        "\n",
        "    \"\"\"\n",
        "    for i in range(len(y)):\n",
        "      self.points[y[i]].append(x[i])\n",
        "\n",
        "  def predict(self, x):\n",
        "    \"\"\"\n",
        "      Arguments:\n",
        "          x  (Tensor or numpy.array): collection of objects from testset (batch)\n",
        "\n",
        "      Returns:\n",
        "          class_num (Tensor or numpy.array) - collection of integer representing\n",
        "          class numbers for objects from x\n",
        "    \"\"\"\n",
        "    labels = []\n",
        "\n",
        "    for point in x:\n",
        "      distances = []\n",
        "      for class_num in self.points:\n",
        "        for sample in self.points[class_num]:\n",
        "          distances.append((L1_dist(point, sample), class_num))\n",
        "\n",
        "      nn_dist, nn_class_num = min(distances)\n",
        "      labels.append(nn_class_num)\n",
        "\n",
        "    return labels\n"
      ],
      "execution_count": 10,
      "outputs": []
    },
    {
      "cell_type": "markdown",
      "metadata": {
        "id": "wHkxc21JCsmb"
      },
      "source": [
        "##Perform smoke test\n",
        "\n",
        "- Create model instance\n",
        "- get predictions for dozen of samples\n"
      ]
    },
    {
      "cell_type": "code",
      "metadata": {
        "id": "IEFk1K9gCTYf",
        "colab": {
          "base_uri": "https://localhost:8080/"
        },
        "outputId": "31d1e89c-95fa-4991-d4af-5187a0d3c578"
      },
      "source": [
        "%%time\n",
        "\n",
        "model_nn = NearestNeighbor()\n",
        "model_nn.fit(X_train, y_train)\n",
        "predicted_labels = model_nn.predict(X_val[0:9])\n",
        "for i, label in enumerate(predicted_labels):\n",
        "    print(f\"Prediction: {classes[label]} vs Target: {classes[y_val[i]]}\")"
      ],
      "execution_count": null,
      "outputs": [
        {
          "output_type": "stream",
          "name": "stdout",
          "text": [
            "Prediction: Лошадь vs Target: Лягушка\n",
            "Prediction: Корабль vs Target: Лошадь\n",
            "Prediction: Автомобиль vs Target: Грузовик\n",
            "Prediction: Собака vs Target: Самолет\n",
            "Prediction: Лягушка vs Target: Собака\n",
            "Prediction: Олень vs Target: Птица\n",
            "Prediction: Птица vs Target: Кошка\n",
            "Prediction: Олень vs Target: Кошка\n",
            "Prediction: Лягушка vs Target: Кошка\n",
            "CPU times: user 3min 13s, sys: 414 ms, total: 3min 14s\n",
            "Wall time: 3min 22s\n"
          ]
        }
      ]
    },
    {
      "cell_type": "markdown",
      "metadata": {
        "id": "jXd1XtQTCzi7"
      },
      "source": [
        "# Validate your model"
      ]
    },
    {
      "cell_type": "markdown",
      "metadata": {
        "id": "Nn9rKA56C49-"
      },
      "source": [
        "## Create validation function\n",
        "\n",
        "Must calculate Accuracy metric for your model."
      ]
    },
    {
      "cell_type": "code",
      "metadata": {
        "id": "0CntfpSeBoLW"
      },
      "source": [
        "def validate(model, x, y):\n",
        "  \"\"\"\n",
        "      Arguments:\n",
        "          model (Object): instance of NearestNeighbor class\n",
        "          x (Tensor or numpy.array): collection of objects\n",
        "          y (Tensor or numpy.array): collection of integer representing\n",
        "          class numbers for objects from x\n",
        "\n",
        "      Returns:\n",
        "          accuracy (float) : percentage of correctly classified objects\n",
        "    \"\"\"\n",
        "  preds = model.predict(x)\n",
        "\n",
        "  true_pred = 0\n",
        "\n",
        "  for i in range(len(y)):\n",
        "    if y[i] == preds[i]:\n",
        "      true_pred += 1\n",
        "\n",
        "  accuracy =  true_pred / len(y)\n",
        "  return accuracy"
      ],
      "execution_count": 11,
      "outputs": []
    },
    {
      "cell_type": "markdown",
      "metadata": {
        "id": "vjKQEAthEKxl"
      },
      "source": [
        " ## Calculate model accuracy on validation data"
      ]
    },
    {
      "cell_type": "code",
      "metadata": {
        "id": "Lv123m6OCEI-",
        "colab": {
          "base_uri": "https://localhost:8080/"
        },
        "outputId": "369a9c23-d4af-49b9-e4f5-8e4be0e0496f"
      },
      "source": [
        "%%time\n",
        "\n",
        "accuracy = validate(model_nn, X_val, y_val)\n",
        "print (\"Accuracy: {:.3f}\".format(accuracy))"
      ],
      "execution_count": null,
      "outputs": [
        {
          "output_type": "stream",
          "name": "stdout",
          "text": [
            "Accuracy: 0.260\n",
            "CPU times: user 2h 53min 57s, sys: 17.5 s, total: 2h 54min 14s\n",
            "Wall time: 2h 55min 47s\n"
          ]
        }
      ]
    },
    {
      "cell_type": "markdown",
      "metadata": {
        "id": "ZsImxpggG8bH"
      },
      "source": [
        "# Place for brief conclusion\n",
        "*Algorithm takes too much time and works very bad, because it makes decisions only based on one nearest neighbor. It does not pay attention to a relative location of pixels at all.*\n"
      ]
    },
    {
      "cell_type": "markdown",
      "metadata": {
        "id": "lJ13OmfCEb1w"
      },
      "source": [
        "# Ideas for extra work\n",
        "\n",
        "- Implement K-NearestNeighbor ✅\n",
        "- Test different distance functions ✅\n",
        "- Evaluate time ✅ *(did it earlier)*"
      ]
    },
    {
      "cell_type": "markdown",
      "source": [
        "## Implement kNearestNeighbors class"
      ],
      "metadata": {
        "id": "EVosOFdO5sow"
      }
    },
    {
      "cell_type": "markdown",
      "source": [
        "*Here is an example of the KNN (K-Nearest Neighbors) algorithm.*"
      ],
      "metadata": {
        "id": "p4nO0ZyP5WW6"
      }
    },
    {
      "cell_type": "code",
      "source": [
        "class kNearestNeighbors:\n",
        "  def __init__(self, k=1): # You can change the method signature\n",
        "    self.k = k\n",
        "    self.points = {0: [], 1: [], 2: [], 3: [], 4: [], 5: [], 6: [], 7: [], 8: [], 9: []}\n",
        "\n",
        "  def fit(self, x, y): # You can change the method signature\n",
        "    \"\"\"\n",
        "      Arguments:\n",
        "        x  (Tensor or numpy.array): collection of objects from trainset (batch)\n",
        "        y  (Tensor or numpy.array): collection of integer\n",
        "        representing a class number for objects from x\n",
        "\n",
        "    \"\"\"\n",
        "    for i in range(len(y)):\n",
        "      self.points[y[i]].append(x[i])\n",
        "\n",
        "  def predict(self, x):\n",
        "    \"\"\"\n",
        "      Arguments:\n",
        "          x  (Tensor or numpy.array): collection of objects from testset (batch)\n",
        "\n",
        "      Returns:\n",
        "          class_num (Tensor or numpy.array) - collection of integer representing\n",
        "          class numbers for objects from x\n",
        "    \"\"\"\n",
        "    labels = []\n",
        "\n",
        "    for point in x:\n",
        "      distances = []\n",
        "      for class_num in self.points:\n",
        "        for sample in self.points[class_num]:\n",
        "          distances.append((L1_dist(point, sample), class_num))\n",
        "\n",
        "      nns = sorted(distances)[:self.k]\n",
        "\n",
        "      freqs = {0: 0, 1: 0, 2: 0, 3: 0, 4: 0, 5: 0, 6: 0, 7: 0, 8: 0, 9: 0}\n",
        "\n",
        "      for nn in nns:\n",
        "        nn_dist, nn_class_num = nn\n",
        "        freqs[nn_class_num] += 1\n",
        "\n",
        "      max_freq, max_class_num = 0, 0\n",
        "      for class_num in freqs:\n",
        "        if freqs[class_num] > max_freq:\n",
        "          max_freq = freqs[class_num]\n",
        "          max_class_num = class_num\n",
        "\n",
        "      labels.append(max_class_num)\n",
        "\n",
        "    return labels\n"
      ],
      "metadata": {
        "id": "J9nKUDGv50MO"
      },
      "execution_count": 12,
      "outputs": []
    },
    {
      "cell_type": "markdown",
      "source": [
        "*Next let's perform a smoke test.*"
      ],
      "metadata": {
        "id": "dwgx8rey-F-S"
      }
    },
    {
      "cell_type": "code",
      "source": [
        "%%time\n",
        "\n",
        "# k nearest neighbors = 10\n",
        "model_nn = kNearestNeighbors(k=10)\n",
        "model_nn.fit(X_train, y_train)\n",
        "predicted_labels = model_nn.predict(X_val[0:9])\n",
        "for i, label in enumerate(predicted_labels):\n",
        "    print(f\"Prediction: {classes[label]} vs Target: {classes[y_val[i]]}\")"
      ],
      "metadata": {
        "colab": {
          "base_uri": "https://localhost:8080/"
        },
        "id": "uX-pWkrR-FqA",
        "outputId": "7718251a-c709-427f-a70f-9d5caff35e44"
      },
      "execution_count": null,
      "outputs": [
        {
          "output_type": "stream",
          "name": "stdout",
          "text": [
            "Prediction: Лягушка vs Target: Лягушка\n",
            "Prediction: Грузовик vs Target: Лошадь\n",
            "Prediction: Автомобиль vs Target: Грузовик\n",
            "Prediction: Олень vs Target: Самолет\n",
            "Prediction: Лягушка vs Target: Собака\n",
            "Prediction: Лягушка vs Target: Птица\n",
            "Prediction: Птица vs Target: Кошка\n",
            "Prediction: Олень vs Target: Кошка\n",
            "Prediction: Самолет vs Target: Кошка\n",
            "CPU times: user 3min 4s, sys: 312 ms, total: 3min 4s\n",
            "Wall time: 3min 5s\n"
          ]
        }
      ]
    },
    {
      "cell_type": "markdown",
      "source": [
        "## Write and test another distance function"
      ],
      "metadata": {
        "id": "Q8zHxyhQ_347"
      }
    },
    {
      "cell_type": "markdown",
      "source": [
        "*Here is a function that calculates Euclidean/L2-distance.*"
      ],
      "metadata": {
        "id": "DqyM7RiLAGm5"
      }
    },
    {
      "cell_type": "code",
      "source": [
        "def L2_dist(a, b):\n",
        "  summ = 0\n",
        "  for i in range(len(a)):\n",
        "    for j in range(len(a[i])):\n",
        "      for k in range(len(a[i][j])):\n",
        "        summ += (int(a[i][j][k]) - int(b[i][j][k])) ** 2\n",
        "  return summ ** 0.5"
      ],
      "metadata": {
        "id": "Hn9qn8Bq_3ma"
      },
      "execution_count": 13,
      "outputs": []
    },
    {
      "cell_type": "markdown",
      "source": [
        "*Let's test it on the NearestNeighbor algorithm version 2 (calculates L2-distance instead of L1-distance).*\n",
        "\n"
      ],
      "metadata": {
        "id": "feE86QSRAfDs"
      }
    },
    {
      "cell_type": "code",
      "source": [
        "class NearestNeighbor2:\n",
        "  def __init__(self):\n",
        "    self.points = {0: [], 1: [], 2: [], 3: [], 4: [], 5: [], 6: [], 7: [], 8: [], 9: []}\n",
        "\n",
        "  def fit(self, x, y):\n",
        "    \"\"\"\n",
        "      Arguments:\n",
        "        x  (Tensor or numpy.array): collection of objects from trainset (batch)\n",
        "        y  (Tensor or numpy.array): collection of integer\n",
        "        representing a class number for objects from x\n",
        "\n",
        "    \"\"\"\n",
        "    for i in range(len(y)):\n",
        "      self.points[y[i]].append(x[i])\n",
        "\n",
        "  def predict(self, x):\n",
        "    \"\"\"\n",
        "      Arguments:\n",
        "          x  (Tensor or numpy.array): collection of objects from testset (batch)\n",
        "\n",
        "      Returns:\n",
        "          class_num (Tensor or numpy.array) - collection of integer representing\n",
        "          class numbers for objects from x\n",
        "    \"\"\"\n",
        "    labels = []\n",
        "\n",
        "    for point in x:\n",
        "      distances = []\n",
        "      for class_num in self.points:\n",
        "        for sample in self.points[class_num]:\n",
        "          distances.append((L2_dist(point, sample), class_num))\n",
        "\n",
        "      nn_dist, nn_class_num = min(distances)\n",
        "      labels.append(nn_class_num)\n",
        "\n",
        "    return labels\n"
      ],
      "metadata": {
        "id": "YL1VSwX8Av-1"
      },
      "execution_count": 14,
      "outputs": []
    },
    {
      "cell_type": "markdown",
      "source": [
        "*Performing a smoke test.*"
      ],
      "metadata": {
        "id": "X--qCsohA0-S"
      }
    },
    {
      "cell_type": "code",
      "source": [
        "%%time\n",
        "\n",
        "model_nn = NearestNeighbor2()\n",
        "model_nn.fit(X_train, y_train)\n",
        "predicted_labels = model_nn.predict(X_val[0:9])\n",
        "for i, label in enumerate(predicted_labels):\n",
        "    print(f\"Prediction: {classes[label]} vs Target: {classes[y_val[i]]}\")"
      ],
      "metadata": {
        "colab": {
          "base_uri": "https://localhost:8080/"
        },
        "id": "CtGgQFryA3Wv",
        "outputId": "03a90f87-1b5d-44c1-f98d-d8c97f51f24e"
      },
      "execution_count": null,
      "outputs": [
        {
          "output_type": "stream",
          "name": "stdout",
          "text": [
            "Prediction: Лошадь vs Target: Лягушка\n",
            "Prediction: Грузовик vs Target: Лошадь\n",
            "Prediction: Птица vs Target: Грузовик\n",
            "Prediction: Собака vs Target: Самолет\n",
            "Prediction: Лягушка vs Target: Собака\n",
            "Prediction: Лягушка vs Target: Птица\n",
            "Prediction: Олень vs Target: Кошка\n",
            "Prediction: Олень vs Target: Кошка\n",
            "Prediction: Самолет vs Target: Кошка\n",
            "CPU times: user 3min 42s, sys: 333 ms, total: 3min 42s\n",
            "Wall time: 3min 44s\n"
          ]
        }
      ]
    }
  ]
}